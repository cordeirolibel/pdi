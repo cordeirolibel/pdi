{
 "cells": [
  {
   "cell_type": "code",
   "execution_count": null,
   "metadata": {},
   "outputs": [],
   "source": [
    "import numpy as np\n",
    "import cv2\n",
    "from matplotlib import pyplot as plt\n",
    "%matplotlib inline"
   ]
  },
  {
   "cell_type": "code",
   "execution_count": null,
   "metadata": {},
   "outputs": [],
   "source": [
    "#minha funcao para mostrar as imagens\n",
    "def imshow(im,big=False):\n",
    "    if big:\n",
    "        plt.figure(figsize=(20,20))\n",
    "    else:\n",
    "        plt.figure()\n",
    "    if len(im.shape)<3:\n",
    "        plt.imshow(im, cmap='gray')#As cores ficam zoadas no Jupyter se deixar sem esse parâmetro\n",
    "    else:\n",
    "        plt.imshow(im[:,:,::-1]) \n",
    "    plt.axis('off')\n",
    "    plt.show()"
   ]
  },
  {
   "cell_type": "code",
   "execution_count": null,
   "metadata": {},
   "outputs": [],
   "source": [
    "def f2i(im):#float to int\n",
    "    return np.round(im * 255.0).astype('uint8')\n",
    "def i2f(im):#int to float\n",
    "    return im.astype('float') / 255.0\n",
    "def norm(im):\n",
    "    return (im-im.min())/(im.max()-im.min())"
   ]
  },
  {
   "cell_type": "markdown",
   "metadata": {},
   "source": [
    "### 1. Abrindo Imagem\n",
    "img/[0-8].bmp <br>\n",
    "shrek.jpg   utfpr.jpg"
   ]
  },
  {
   "cell_type": "code",
   "execution_count": null,
   "metadata": {},
   "outputs": [],
   "source": [
    "path = \"img/1.bmp\"\n",
    "background = \"shrek.jpg\""
   ]
  },
  {
   "cell_type": "code",
   "execution_count": null,
   "metadata": {},
   "outputs": [],
   "source": [
    "im = cv2.imread(path)\n",
    "imshow(im)"
   ]
  },
  {
   "cell_type": "code",
   "execution_count": null,
   "metadata": {},
   "outputs": [],
   "source": [
    "def abre_fundo(path,shape):\n",
    "    im_fundo = cv2.imread(path)\n",
    "    im_fundo = cv2.resize(im_fundo, (shape[1], shape[0]))\n",
    "    return im_fundo\n",
    "im_fundo = abre_fundo(background,im.shape)\n",
    "imshow(im_fundo)"
   ]
  },
  {
   "cell_type": "markdown",
   "metadata": {},
   "source": [
    "### Verdes"
   ]
  },
  {
   "cell_type": "code",
   "execution_count": null,
   "metadata": {},
   "outputs": [],
   "source": [
    "def busca_verde(im,hue_min=40,hue_max=75,sat_min=60,light_min=60):\n",
    "    im_hsv = cv2.cvtColor(im, cv2.COLOR_BGR2HSV)\n",
    "\n",
    "    eh_verde = (im_hsv[:,:,0] > hue_min) & (im_hsv[:,:,0] < hue_max)\n",
    "    bem_saturado = (im_hsv[:,:,1] > sat_min)\n",
    "    bem_claro = (im_hsv[:,:,2]>light_min) \n",
    "\n",
    "    mascara = eh_verde * bem_saturado * bem_claro\n",
    "    mascara = 1 - mascara\n",
    "    return mascara\n",
    "\n",
    "mascara = busca_verde(im)\n",
    "imshow(mascara)"
   ]
  },
  {
   "cell_type": "markdown",
   "metadata": {},
   "source": [
    "### Remove Fundo"
   ]
  },
  {
   "cell_type": "code",
   "execution_count": null,
   "metadata": {},
   "outputs": [],
   "source": [
    "def remove_fundo(im,mascara):\n",
    "    im_hsv = cv2.cvtColor(im, cv2.COLOR_BGR2HSV)\n",
    "\n",
    "    im_hsv[:,:,2] = im_hsv[:,:,2] * mascara\n",
    "\n",
    "    im_sem_fundo = cv2.cvtColor(im_hsv, cv2.COLOR_HSV2BGR)\n",
    "    return im_sem_fundo\n",
    "im_sem_fundo = remove_fundo(im,mascara)                      \n",
    "imshow(im_sem_fundo, True)"
   ]
  },
  {
   "cell_type": "code",
   "execution_count": null,
   "metadata": {},
   "outputs": [],
   "source": []
  },
  {
   "cell_type": "markdown",
   "metadata": {},
   "source": [
    "### Meio Verde"
   ]
  },
  {
   "cell_type": "code",
   "execution_count": null,
   "metadata": {},
   "outputs": [],
   "source": [
    "def ajusta_bordas(im,im_sem_fundo,mascara,hue_min=35,hue_max=80,sat_min=40,light_min=50):\n",
    "    mascara2 = busca_verde(im,hue_min=hue_min,hue_max=hue_max,\n",
    "                           sat_min=sat_min,light_min=light_min)\n",
    "    mascara_borda = 1-(mascara-mascara2) #parte meio verde\n",
    "    \n",
    "    #imagem com menos verde\n",
    "    im_menos_verde = im_sem_fundo.copy()\n",
    "    im_menos_verde[:,:,1] = im_menos_verde[:,:,1]/2\n",
    "    \n",
    "    #somente onde é meio verde\n",
    "    im_menos_verde_borda = coloca_fundo(im_sem_fundo,im_menos_verde,mascara_borda)\n",
    "    return im_menos_verde_borda\n",
    "    \n",
    "meio_verde = ajusta_bordas(im,im_sem_fundo, mascara)\n",
    "imshow(meio_verde,True)"
   ]
  },
  {
   "cell_type": "markdown",
   "metadata": {},
   "source": [
    "### Luminosidade no verde"
   ]
  },
  {
   "cell_type": "code",
   "execution_count": null,
   "metadata": {
    "scrolled": false
   },
   "outputs": [],
   "source": [
    "def luminosidade_no_fundo(im,im_fundo,mascara,alpha=0.5):\n",
    "    im_verde = remove_fundo(im,1-mascara)\n",
    "    \n",
    "    im_hsv_verde = cv2.cvtColor(im_verde, cv2.COLOR_BGR2HSV)\n",
    "    im_hsv_fundo = cv2.cvtColor(im_fundo, cv2.COLOR_BGR2HSV)\n",
    "    \n",
    "    # ajustando a luminosidade do verde para ser parecida com a da imagem de fundo\n",
    "    lum_verde = im_hsv_verde[:,:,2]\n",
    "    lum_fundo = im_hsv_fundo[:,:,2]\n",
    "    media_verde = lum_verde[lum_verde!=0].mean() \n",
    "    media_fundo = lum_fundo.mean()\n",
    "    lum_verde = lum_verde*(media_fundo/media_verde)\n",
    "    \n",
    "    print(media_verde,media_fundo)\n",
    "    \n",
    "    #soma ponderada \n",
    "    im_hsv_fundo[:,:,2] = lum_verde*alpha+lum_fundo*(1-alpha)\n",
    "    \n",
    "    im_fundo_ajustado = cv2.cvtColor(im_hsv_fundo, cv2.COLOR_HSV2BGR)\n",
    "    \n",
    "    return im_fundo_ajustado\n",
    "im_fundo2 = luminosidade_no_fundo(im,im_fundo,mascara)\n",
    "imshow(im_fundo2,True)"
   ]
  },
  {
   "cell_type": "markdown",
   "metadata": {},
   "source": [
    "### 4. Coloca fundo"
   ]
  },
  {
   "cell_type": "code",
   "execution_count": null,
   "metadata": {},
   "outputs": [],
   "source": [
    "def coloca_fundo(im,im_fundo,mascara):\n",
    "    #imagem_com_fundo = im_sem_fundo.copy()\n",
    "    mascara_tres_eixos = [mascara]*3\n",
    "    mascara_tres_eixos = np.swapaxes(np.swapaxes(mascara_tres_eixos, 0, 2), 0, 1)\n",
    "\n",
    "    imagem_com_fundo = np.where(mascara_tres_eixos, im, im_fundo)\n",
    "    return imagem_com_fundo\n",
    "imagem_com_fundo = coloca_fundo(im_sem_fundo,im_fundo2,mascara)\n",
    "imshow(imagem_com_fundo, True)"
   ]
  },
  {
   "cell_type": "markdown",
   "metadata": {},
   "source": [
    "### 5. Pipeline"
   ]
  },
  {
   "cell_type": "code",
   "execution_count": null,
   "metadata": {},
   "outputs": [],
   "source": [
    "def pipeline(path,background):\n",
    "    im           = cv2.imread(path)\n",
    "    im_fundo     = abre_fundo(background,im.shape)\n",
    "    mascara      = busca_verde(im)\n",
    "    im_fundo2    = luminosidade_no_fundo(im,im_fundo,mascara)\n",
    "    im_sem_fundo = remove_fundo(im,mascara)  \n",
    "    meio_verde   = ajusta_bordas(im,im_sem_fundo,mascara)\n",
    "    im_com_fundo = coloca_fundo(meio_verde,im_fundo2,mascara)\n",
    "    return im_com_fundo"
   ]
  },
  {
   "cell_type": "code",
   "execution_count": null,
   "metadata": {},
   "outputs": [],
   "source": [
    "folder = 'img/'\n",
    "paths = ['0.bmp','1.bmp','2.bmp','3.bmp','4.bmp','5.bmp','6.bmp','7.bmp','8.bmp']\n",
    "background = 'shrek.jpg'"
   ]
  },
  {
   "cell_type": "code",
   "execution_count": null,
   "metadata": {
    "scrolled": false
   },
   "outputs": [],
   "source": [
    "for p in paths:\n",
    "    print(p)\n",
    "    im_out = pipeline(folder+p,background)\n",
    "    imshow(im_out,True)\n",
    "    cv2.imwrite(\"img_out/\"+p,im_out)"
   ]
  },
  {
   "cell_type": "code",
   "execution_count": null,
   "metadata": {},
   "outputs": [],
   "source": []
  },
  {
   "cell_type": "code",
   "execution_count": null,
   "metadata": {},
   "outputs": [],
   "source": []
  }
 ],
 "metadata": {
  "kernelspec": {
   "display_name": "py3im",
   "language": "python",
   "name": "py3im"
  },
  "language_info": {
   "codemirror_mode": {
    "name": "ipython",
    "version": 3
   },
   "file_extension": ".py",
   "mimetype": "text/x-python",
   "name": "python",
   "nbconvert_exporter": "python",
   "pygments_lexer": "ipython3",
   "version": "3.6.7"
  }
 },
 "nbformat": 4,
 "nbformat_minor": 2
}
