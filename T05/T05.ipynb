{
 "cells": [
  {
   "cell_type": "code",
   "execution_count": null,
   "metadata": {},
   "outputs": [],
   "source": [
    "import numpy as np\n",
    "import cv2\n",
    "from matplotlib import pyplot as plt\n",
    "%matplotlib inline"
   ]
  },
  {
   "cell_type": "code",
   "execution_count": null,
   "metadata": {},
   "outputs": [],
   "source": [
    "#minha funcao para mostrar as imagens\n",
    "def imshow(im,big=False):\n",
    "    if big:\n",
    "        plt.figure(figsize=(20,20))\n",
    "    else:\n",
    "        plt.figure()\n",
    "    if len(im.shape)<3:\n",
    "        plt.imshow(im, cmap='gray')#As cores ficam zoadas no Jupyter se deixar sem esse parâmetro\n",
    "    else:\n",
    "        plt.imshow(im[:,:,::-1]) \n",
    "    plt.axis('off')\n",
    "    plt.show()"
   ]
  },
  {
   "cell_type": "code",
   "execution_count": null,
   "metadata": {},
   "outputs": [],
   "source": [
    "def f2i(im):#float to int\n",
    "    return np.round(im * 255.0).astype('uint8')\n",
    "def i2f(im):#int to float\n",
    "    return im.astype('float') / 255.0\n",
    "def norm(im):\n",
    "    return (im-im.min())/(im.max()-im.min())"
   ]
  },
  {
   "cell_type": "markdown",
   "metadata": {},
   "source": [
    "### 1. Abrindo Imagem"
   ]
  },
  {
   "cell_type": "code",
   "execution_count": null,
   "metadata": {},
   "outputs": [],
   "source": [
    "im = cv2.imread(\"2.bmp\")\n",
    "imshow(im)"
   ]
  },
  {
   "cell_type": "markdown",
   "metadata": {},
   "source": [
    "### 2. Verdes"
   ]
  },
  {
   "cell_type": "code",
   "execution_count": null,
   "metadata": {},
   "outputs": [],
   "source": [
    "im_hsv = cv2.cvtColor(im, cv2.COLOR_BGR2HSV)\n",
    "\n",
    "eh_verde = (im_hsv[:,:,0] > 40) & (im_hsv[:,:,0] < 75)\n",
    "bem_saturado = (im_hsv[:,:,1] > 100)\n",
    "suficientemente_claro = (im_hsv[:,:,2] > 65)\n",
    "\n",
    "im_hsv[:,:,2] = (im_hsv[:,:,2] * eh_verde * bem_saturado * suficientemente_claro)\n",
    "im_verde = cv2.cvtColor(im_hsv, cv2.COLOR_HSV2BGR)\n",
    "imshow(im_verde, True)"
   ]
  },
  {
   "cell_type": "code",
   "execution_count": null,
   "metadata": {},
   "outputs": [],
   "source": []
  }
 ],
 "metadata": {
  "kernelspec": {
   "display_name": "Python 3",
   "language": "python",
   "name": "python3"
  },
  "language_info": {
   "codemirror_mode": {
    "name": "ipython",
    "version": 3
   },
   "file_extension": ".py",
   "mimetype": "text/x-python",
   "name": "python",
   "nbconvert_exporter": "python",
   "pygments_lexer": "ipython3",
   "version": "3.7.3"
  }
 },
 "nbformat": 4,
 "nbformat_minor": 2
}
