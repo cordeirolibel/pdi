{
 "cells": [
  {
   "cell_type": "code",
   "execution_count": 1,
   "metadata": {},
   "outputs": [],
   "source": [
    "import numpy as np\n",
    "import cv2\n",
    "from matplotlib import pyplot as plt\n",
    "%matplotlib inline"
   ]
  },
  {
   "cell_type": "code",
   "execution_count": 2,
   "metadata": {},
   "outputs": [],
   "source": [
    "#minha funcao para mostrar as imagens\n",
    "def imshow(im,big=False):\n",
    "    if big:\n",
    "        plt.figure(figsize=(20,20))\n",
    "    else:\n",
    "        plt.figure()\n",
    "    if len(im.shape)<3:\n",
    "        plt.imshow(im, cmap='gray')#As cores ficam zoadas no Jupyter se deixar sem esse parâmetro\n",
    "    else:\n",
    "        plt.imshow(im[:,:,::-1]) \n",
    "    plt.axis('off')\n",
    "    plt.show()"
   ]
  },
  {
   "cell_type": "markdown",
   "metadata": {},
   "source": [
    "***\n",
    "# Contornos"
   ]
  },
  {
   "cell_type": "code",
   "execution_count": 3,
   "metadata": {},
   "outputs": [
    {
     "data": {
      "image/png": "[encoded data removed]",
      "text/plain": [
       "<Figure size 432x288 with 1 Axes>"
      ]
     },
     "metadata": {
      "needs_background": "light"
     },
     "output_type": "display_data"
    }
   ],
   "source": [
    "im = cv2.imread('imgs/im.jpg')\n",
    "im_gray = cv2.cvtColor(im, cv2.COLOR_BGR2GRAY)\n",
    "imshow(im_gray)"
   ]
  },
  {
   "cell_type": "markdown",
   "metadata": {},
   "source": [
    "cv2.findContours\n",
    "### mode:\n",
    "RETR_EXTERNAL \t\n",
    "retrieves only the extreme outer contours. It sets hierarchy[i][2]=hierarchy[i][3]=-1 for all the contours.\n",
    "\n",
    "RETR_LIST \t\n",
    "retrieves all of the contours without establishing any hierarchical relationships.\n",
    "\n",
    "RETR_CCOMP \t\n",
    "retrieves all of the contours and organizes them into a two-level hierarchy. At the top level, there are external boundaries of the components. At the second level, there are boundaries of the holes. If there is another contour inside a hole of a connected component, it is still put at the top level.\n",
    "\n",
    "RETR_TREE \t\n",
    "retrieves all of the contours and reconstructs a full hierarchy of nested contours.\n",
    "\n",
    "RETR_FLOODFILL \t\n",
    "\n",
    "### method:\n",
    "CHAIN_APPROX_NONE \t\n",
    "stores absolutely all the contour points. That is, any 2 subsequent points (x1,y1) and (x2,y2) of the contour will be either horizontal, vertical or diagonal neighbors, that is, max(abs(x1-x2),abs(y2-y1))==1.\n",
    "\n",
    "CHAIN_APPROX_SIMPLE \t\n",
    "compresses horizontal, vertical, and diagonal segments and leaves only their end points. For example, an up-right rectangular contour is encoded with 4 points.\n",
    "\n",
    "CHAIN_APPROX_TC89_L1 \t\n",
    "applies one of the flavors of the Teh-Chin chain approximation algorithm [168]\n",
    "\n",
    "CHAIN_APPROX_TC89_KCOS \t\n",
    "applies one of the flavors of the Teh-Chin chain approximation algorithm [168]"
   ]
  },
  {
   "cell_type": "code",
   "execution_count": 4,
   "metadata": {},
   "outputs": [
    {
     "data": {
      "text/plain": [
       "2"
      ]
     },
     "execution_count": 4,
     "metadata": {},
     "output_type": "execute_result"
    }
   ],
   "source": [
    "ret,thresh = cv2.threshold(im_gray,127,255,0)\n",
    "con,h = cv2.findContours(thresh,mode=cv2.RETR_TREE,method = cv2.CHAIN_APPROX_SIMPLE)\n",
    "len(con)"
   ]
  },
  {
   "cell_type": "code",
   "execution_count": null,
   "metadata": {},
   "outputs": [],
   "source": []
  },
  {
   "cell_type": "code",
   "execution_count": null,
   "metadata": {},
   "outputs": [],
   "source": []
  },
  {
   "cell_type": "markdown",
   "metadata": {},
   "source": [
    "### Isso aqui não funcionou direito - tentativa de suavizar os contornos"
   ]
  },
  {
   "cell_type": "code",
   "execution_count": null,
   "metadata": {},
   "outputs": [],
   "source": [
    "from scipy.interpolate import splprep, splev"
   ]
  },
  {
   "cell_type": "code",
   "execution_count": null,
   "metadata": {},
   "outputs": [],
   "source": [
    "def suaviza_contorno (contorno):\n",
    "    x,y = contorno.T\n",
    "    \n",
    "    # Convert from numpy arrays to normal arrays\n",
    "    x = x.tolist()[0]\n",
    "    y = y.tolist()[0]\n",
    "    \n",
    "    # https://docs.scipy.org/doc/scipy-0.14.0/reference/generated/scipy.interpolate.splprep.html\n",
    "    tck, u = splprep([x,y], u=None, s=1.0, per=1)\n",
    "    \n",
    "    # https://docs.scipy.org/doc/numpy-1.10.1/reference/generated/numpy.linspace.html\n",
    "    u_new = np.linspace(u.min(), u.max(), 1000)\n",
    "    \n",
    "    # https://docs.scipy.org/doc/scipy-0.14.0/reference/generated/scipy.interpolate.splev.html\n",
    "    x_new, y_new = splev(u_new, tck, der=0)\n",
    "    \n",
    "    # Convert it back to numpy format for opencv to be able to display it\n",
    "    res_array = [[[int(i[0]), int(i[1])]] for i in zip(x_new,y_new)]\n",
    "    return np.asarray(res_array, dtype=np.int32)"
   ]
  },
  {
   "cell_type": "code",
   "execution_count": null,
   "metadata": {},
   "outputs": [],
   "source": [
    "con_suavizado = []\n",
    "con_suavizado.append(suaviza_contorno(con[0]))\n",
    "con_suavizado.append(suaviza_contorno(con[1]))"
   ]
  },
  {
   "cell_type": "code",
   "execution_count": null,
   "metadata": {},
   "outputs": [],
   "source": []
  },
  {
   "cell_type": "code",
   "execution_count": null,
   "metadata": {},
   "outputs": [],
   "source": []
  },
  {
   "cell_type": "markdown",
   "metadata": {},
   "source": [
    "### Testando o método de interpolação splprep do scipy"
   ]
  },
  {
   "cell_type": "code",
   "execution_count": 25,
   "metadata": {},
   "outputs": [],
   "source": [
    "from scipy.interpolate import splprep, splev"
   ]
  },
  {
   "cell_type": "code",
   "execution_count": 26,
   "metadata": {},
   "outputs": [],
   "source": [
    "phi = np.linspace(0, 2.*np.pi, 40)\n",
    "r = 0.5 + np.cos(phi)\n",
    "x, y = r * np.cos(phi), r * np.sin(phi)"
   ]
  },
  {
   "cell_type": "code",
   "execution_count": 27,
   "metadata": {},
   "outputs": [
    {
     "name": "stderr",
     "output_type": "stream",
     "text": [
      "/usr/lib/python3.7/site-packages/scipy/interpolate/_fitpack_impl.py:226: RuntimeWarning: Setting x[1][40]=x[1][0]\n",
      "  (i, m, i)))\n"
     ]
    }
   ],
   "source": [
    "tck, u = splprep([x, y], s=0, per=1)\n",
    "u_new = np.linspace(u.min(), u.max(), 1000)\n",
    "new_points = splev(u_new, tck)"
   ]
  },
  {
   "cell_type": "code",
   "execution_count": 28,
   "metadata": {},
   "outputs": [
    {
     "data": {
      "image/png": "[encoded data removed]",
      "text/plain": [
       "<Figure size 432x288 with 1 Axes>"
      ]
     },
     "metadata": {
      "needs_background": "light"
     },
     "output_type": "display_data"
    }
   ],
   "source": [
    "fig, ax = plt.subplots()\n",
    "ax.plot(x, y, 'ro')\n",
    "ax.plot(new_points[0], new_points[1], 'r-')\n",
    "plt.show()"
   ]
  },
  {
   "cell_type": "code",
   "execution_count": null,
   "metadata": {},
   "outputs": [],
   "source": []
  },
  {
   "cell_type": "code",
   "execution_count": null,
   "metadata": {},
   "outputs": [],
   "source": []
  },
  {
   "cell_type": "markdown",
   "metadata": {},
   "source": [
    "# Aproximando por poligonos\n",
    "https://docs.opencv.org/2.4/modules/imgproc/doc/structural_analysis_and_shape_descriptors.html"
   ]
  },
  {
   "cell_type": "code",
   "execution_count": 5,
   "metadata": {},
   "outputs": [],
   "source": [
    "def pinta_poligonos(im_contornar,poligonos,lineThickness=1):\n",
    "    im_contorno = im_contornar.copy()\n",
    "    cv2.polylines(im_contorno, [poligonos], True, (0, 0, 255), lineThickness)\n",
    "    return im_contorno"
   ]
  },
  {
   "cell_type": "code",
   "execution_count": 39,
   "metadata": {},
   "outputs": [
    {
     "data": {
      "text/plain": [
       "51"
      ]
     },
     "execution_count": 39,
     "metadata": {},
     "output_type": "execute_result"
    }
   ],
   "source": [
    "#transforma o contorno 1 em poligonos\n",
    "poligonos = cv2.approxPolyDP(con[1],epsilon=0.5,closed = True)\n",
    "len(poligonos)"
   ]
  },
  {
   "cell_type": "code",
   "execution_count": 40,
   "metadata": {},
   "outputs": [
    {
     "data": {
      "image/png": "[encoded data removed]",
      "text/plain": [
       "<Figure size 432x288 with 1 Axes>"
      ]
     },
     "metadata": {
      "needs_background": "light"
     },
     "output_type": "display_data"
    }
   ],
   "source": [
    "imshow(pinta_poligonos(im,poligonos,1))"
   ]
  },
  {
   "cell_type": "markdown",
   "metadata": {},
   "source": [
    "### Desenhando contornos em imagem 4 vezes maior"
   ]
  },
  {
   "cell_type": "code",
   "execution_count": 41,
   "metadata": {},
   "outputs": [],
   "source": [
    "im_4x = np.ones((400,400,3)).astype('uint8')*255\n",
    "poligonos_4x = poligonos * 4"
   ]
  },
  {
   "cell_type": "code",
   "execution_count": 42,
   "metadata": {},
   "outputs": [
    {
     "data": {
      "image/png": "[encoded data removed]",
      "text/plain": [
       "<Figure size 1440x1440 with 1 Axes>"
      ]
     },
     "metadata": {
      "needs_background": "light"
     },
     "output_type": "display_data"
    }
   ],
   "source": [
    "#Sem interpolar\n",
    "\n",
    "im_pintada = pinta_poligonos(im_4x,poligonos_4x,1)\n",
    "imshow(im_pintada, True)"
   ]
  },
  {
   "cell_type": "code",
   "execution_count": 43,
   "metadata": {},
   "outputs": [
    {
     "name": "stderr",
     "output_type": "stream",
     "text": [
      "/usr/lib/python3.7/site-packages/scipy/interpolate/_fitpack_impl.py:226: RuntimeWarning: Setting x[1][51]=x[1][0]\n",
      "  (i, m, i)))\n"
     ]
    }
   ],
   "source": [
    "x,y = poligonos_4x.T\n",
    "x = x[0]\n",
    "y = y[0]\n",
    "\n",
    "tck, u = splprep([x, y], s=0, per=1)\n",
    "u_new = np.linspace(u.min(), u.max(), 10000)\n",
    "interpolado = np.array(np.around(splev(u_new, tck))).T.astype(int)"
   ]
  },
  {
   "cell_type": "code",
   "execution_count": 44,
   "metadata": {},
   "outputs": [
    {
     "data": {
      "image/png": "[encoded data removed]",
      "text/plain": [
       "<Figure size 1440x1440 with 1 Axes>"
      ]
     },
     "metadata": {
      "needs_background": "light"
     },
     "output_type": "display_data"
    }
   ],
   "source": [
    "im_pintada = pinta_poligonos(im_4x,interpolado,1)\n",
    "imshow(im_pintada, True)"
   ]
  },
  {
   "cell_type": "code",
   "execution_count": 35,
   "metadata": {},
   "outputs": [
    {
     "data": {
      "text/plain": [
       "[array([72.        , 72.00591686, 72.01184382, ..., 71.98819668,\n",
       "        71.99409327, 72.        ]),\n",
       " array([236.        , 235.99482073, 235.98964385, ..., 236.01036572,\n",
       "        236.00518166, 236.        ])]"
      ]
     },
     "execution_count": 35,
     "metadata": {},
     "output_type": "execute_result"
    }
   ],
   "source": [
    "splev(u_new, tck)"
   ]
  },
  {
   "cell_type": "code",
   "execution_count": 36,
   "metadata": {},
   "outputs": [
    {
     "data": {
      "text/plain": [
       "array([[[ 72, 236]],\n",
       "\n",
       "       [[ 76, 232]],\n",
       "\n",
       "       [[ 76, 228]],\n",
       "\n",
       "       [[ 80, 224]],\n",
       "\n",
       "       [[ 80, 220]],\n",
       "\n",
       "       [[ 84, 216]],\n",
       "\n",
       "       [[ 84, 212]],\n",
       "\n",
       "       [[116, 180]],\n",
       "\n",
       "       [[120, 180]],\n",
       "\n",
       "       [[124, 176]],\n",
       "\n",
       "       [[144, 176]],\n",
       "\n",
       "       [[148, 172]],\n",
       "\n",
       "       [[152, 172]],\n",
       "\n",
       "       [[156, 168]],\n",
       "\n",
       "       [[164, 168]],\n",
       "\n",
       "       [[168, 164]],\n",
       "\n",
       "       [[172, 164]],\n",
       "\n",
       "       [[180, 156]],\n",
       "\n",
       "       [[188, 156]],\n",
       "\n",
       "       [[192, 160]],\n",
       "\n",
       "       [[200, 160]],\n",
       "\n",
       "       [[204, 164]],\n",
       "\n",
       "       [[216, 164]],\n",
       "\n",
       "       [[220, 168]],\n",
       "\n",
       "       [[228, 168]],\n",
       "\n",
       "       [[232, 172]],\n",
       "\n",
       "       [[240, 172]],\n",
       "\n",
       "       [[244, 176]],\n",
       "\n",
       "       [[252, 176]],\n",
       "\n",
       "       [[256, 180]],\n",
       "\n",
       "       [[268, 180]],\n",
       "\n",
       "       [[272, 184]],\n",
       "\n",
       "       [[280, 184]],\n",
       "\n",
       "       [[284, 188]],\n",
       "\n",
       "       [[296, 188]],\n",
       "\n",
       "       [[300, 192]],\n",
       "\n",
       "       [[308, 192]],\n",
       "\n",
       "       [[312, 196]],\n",
       "\n",
       "       [[320, 196]],\n",
       "\n",
       "       [[324, 200]],\n",
       "\n",
       "       [[328, 200]],\n",
       "\n",
       "       [[332, 204]],\n",
       "\n",
       "       [[336, 204]],\n",
       "\n",
       "       [[340, 208]],\n",
       "\n",
       "       [[344, 208]],\n",
       "\n",
       "       [[348, 212]],\n",
       "\n",
       "       [[352, 212]],\n",
       "\n",
       "       [[372, 232]],\n",
       "\n",
       "       [[372, 236]],\n",
       "\n",
       "       [[376, 240]],\n",
       "\n",
       "       [[376, 248]],\n",
       "\n",
       "       [[380, 252]],\n",
       "\n",
       "       [[380, 272]],\n",
       "\n",
       "       [[376, 276]],\n",
       "\n",
       "       [[376, 284]],\n",
       "\n",
       "       [[372, 288]],\n",
       "\n",
       "       [[372, 292]],\n",
       "\n",
       "       [[368, 296]],\n",
       "\n",
       "       [[368, 300]],\n",
       "\n",
       "       [[364, 304]],\n",
       "\n",
       "       [[356, 304]],\n",
       "\n",
       "       [[352, 308]],\n",
       "\n",
       "       [[348, 308]],\n",
       "\n",
       "       [[344, 312]],\n",
       "\n",
       "       [[340, 312]],\n",
       "\n",
       "       [[336, 316]],\n",
       "\n",
       "       [[276, 316]],\n",
       "\n",
       "       [[272, 320]],\n",
       "\n",
       "       [[248, 320]],\n",
       "\n",
       "       [[244, 316]],\n",
       "\n",
       "       [[216, 316]],\n",
       "\n",
       "       [[212, 312]],\n",
       "\n",
       "       [[200, 312]],\n",
       "\n",
       "       [[196, 308]],\n",
       "\n",
       "       [[180, 308]],\n",
       "\n",
       "       [[176, 304]],\n",
       "\n",
       "       [[164, 304]],\n",
       "\n",
       "       [[160, 300]],\n",
       "\n",
       "       [[152, 300]],\n",
       "\n",
       "       [[148, 296]],\n",
       "\n",
       "       [[140, 296]],\n",
       "\n",
       "       [[136, 292]],\n",
       "\n",
       "       [[128, 292]],\n",
       "\n",
       "       [[124, 288]],\n",
       "\n",
       "       [[116, 288]],\n",
       "\n",
       "       [[112, 284]],\n",
       "\n",
       "       [[108, 284]],\n",
       "\n",
       "       [[ 96, 272]],\n",
       "\n",
       "       [[ 84, 272]],\n",
       "\n",
       "       [[ 80, 268]],\n",
       "\n",
       "       [[ 80, 264]],\n",
       "\n",
       "       [[ 72, 256]]], dtype=int32)"
      ]
     },
     "execution_count": 36,
     "metadata": {},
     "output_type": "execute_result"
    }
   ],
   "source": [
    "poligonos_4x"
   ]
  },
  {
   "cell_type": "code",
   "execution_count": null,
   "metadata": {},
   "outputs": [],
   "source": []
  }
 ],
 "metadata": {
  "kernelspec": {
   "display_name": "Python 3",
   "language": "python",
   "name": "python3"
  },
  "language_info": {
   "codemirror_mode": {
    "name": "ipython",
    "version": 3
   },
   "file_extension": ".py",
   "mimetype": "text/x-python",
   "name": "python",
   "nbconvert_exporter": "python",
   "pygments_lexer": "ipython3",
   "version": "3.7.3"
  }
 },
 "nbformat": 4,
 "nbformat_minor": 2
}
