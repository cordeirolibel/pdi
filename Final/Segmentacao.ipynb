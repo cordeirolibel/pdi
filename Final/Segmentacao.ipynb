{
 "cells": [
  {
   "cell_type": "markdown",
   "metadata": {},
   "source": [
    "# Segmentação\n",
    "Referências: <br>\n",
    "https://scikit-image.org/docs/dev/auto_examples/segmentation/plot_segmentations.html <br>\n",
    "https://scikit-image.org/docs/dev/api/skimage.segmentation.html\n",
    "***"
   ]
  },
  {
   "cell_type": "code",
   "execution_count": null,
   "metadata": {},
   "outputs": [],
   "source": [
    "import numpy as np\n",
    "import cv2\n",
    "from matplotlib import pyplot as plt\n",
    "%matplotlib inline"
   ]
  },
  {
   "cell_type": "code",
   "execution_count": null,
   "metadata": {},
   "outputs": [],
   "source": [
    "from skimage.segmentation import felzenszwalb,slic,quickshift,watershed\n",
    "from skimage.color import rgb2gray\n",
    "from skimage.filters import sobel"
   ]
  },
  {
   "cell_type": "markdown",
   "metadata": {},
   "source": [
    "## Funcoes de imshow"
   ]
  },
  {
   "cell_type": "code",
   "execution_count": null,
   "metadata": {},
   "outputs": [],
   "source": [
    "#minha funcao para mostrar as imagens\n",
    "def imshow(im,big=False):\n",
    "    if big:\n",
    "        plt.figure(figsize=(20,20))\n",
    "    else:\n",
    "        plt.figure()\n",
    "    if len(im.shape)<3:\n",
    "        plt.imshow(im, cmap='gray')#As cores ficam zoadas no Jupyter se deixar sem esse parâmetro\n",
    "    else:\n",
    "        plt.imshow(im[:,:,::-1]) \n",
    "    plt.axis('off')\n",
    "    plt.show()"
   ]
  },
  {
   "cell_type": "code",
   "execution_count": null,
   "metadata": {},
   "outputs": [],
   "source": [
    "#pinta uma matriz de labels com cores diferentes\n",
    "def pinta_blobs(labels,angle_delta=20):\n",
    "    #cria imagens\n",
    "    im_hsv = np.ones((labels.shape[0],labels.shape[1],3)).astype('uint8')*255\n",
    "    \n",
    "    #printa usando a mascara\n",
    "    im_hsv[:,:,0] = (labels*angle_delta)%180\n",
    "\n",
    "    return cv2.cvtColor(im_hsv, cv2.COLOR_HSV2BGR)\n",
    "\n",
    "#pinta uma matriz de labels com a media de cores de im \n",
    "def pinta_blobs2(labels,im):\n",
    "    n_labels = int(labels.max()+1)\n",
    "    im_out = np.zeros(im.shape)\n",
    "    \n",
    "    #divide por canal\n",
    "    b,g,r    = im[:,:,0],im[:,:,1],im[:,:,2]\n",
    "    bo,go,ro = im_out[:,:,0],im_out[:,:,1],im_out[:,:,2]\n",
    "    \n",
    "    for label in range(n_labels):\n",
    "        mask = labels==label\n",
    "        bo[mask] += np.median(b[mask])#b[mask].mean()\n",
    "        go[mask] += np.median(g[mask])#g[mask].mean()\n",
    "        ro[mask] += np.median(r[mask])#r[mask].mean()\n",
    "    return im_out.astype('uint8')"
   ]
  },
  {
   "cell_type": "markdown",
   "metadata": {},
   "source": [
    "## Abre imagem"
   ]
  },
  {
   "cell_type": "code",
   "execution_count": null,
   "metadata": {},
   "outputs": [],
   "source": [
    "im = cv2.imread('imgs/1.jpg')\n",
    "imshow(im)"
   ]
  },
  {
   "cell_type": "markdown",
   "metadata": {},
   "source": [
    "***\n",
    "# 1. Minha Segmentacao\n",
    "### 1.1 floodfill com distância de cores"
   ]
  },
  {
   "cell_type": "code",
   "execution_count": null,
   "metadata": {},
   "outputs": [],
   "source": [
    "#distancia entre a cor de dois pixels em RGB\n",
    "def dist_cor(pixel1,pixel2):\n",
    "    #return np.sqrt(((pixel1-pixel2)**2).sum())\n",
    "    return ((pixel1-pixel2)**2).sum()"
   ]
  },
  {
   "cell_type": "code",
   "execution_count": null,
   "metadata": {},
   "outputs": [],
   "source": [
    "#floodfill com pilha\n",
    "def floodfill(matrix,labels,x0,y0,label,alpha=50):\n",
    "    size = matrix.shape\n",
    "    \n",
    "    pilha = list()\n",
    "    pilha.append([x0,y0,None])\n",
    "    \n",
    "    while(pilha):\n",
    "        \n",
    "        x,y,pixel_ant = pilha.pop()\n",
    "        labels[y,x] = label\n",
    "        \n",
    "        # Se as cores forem parecidas\n",
    "        if pixel_ant is None or dist_cor(matrix[y,x],pixel_ant) <= alpha:\n",
    "            #recursivo para os vizinhos\n",
    "            if x > 0 and labels[y,x-1]<0:\n",
    "                pilha.append([x-1,y,matrix[y,x]])\n",
    "            if x < size[1] - 1 and labels[y,x+1]<0:\n",
    "                pilha.append([x+1,y,matrix[y,x]])\n",
    "            if y > 0 and labels[y-1,x]<0:\n",
    "                pilha.append([x,y-1,matrix[y,x]])\n",
    "            if y < size[0] - 1 and labels[y+1,x]<0:\n",
    "                pilha.append([x,y+1,matrix[y,x]])"
   ]
  },
  {
   "cell_type": "code",
   "execution_count": null,
   "metadata": {},
   "outputs": [],
   "source": [
    "def meu_segmenta(im):\n",
    "    labels = np.ones((im.shape[0],im.shape[1])).astype(int)*-1\n",
    "    label = 0\n",
    "    for y in range(im.shape[0]):\n",
    "        for x in range(im.shape[1]):\n",
    "            if labels[y,x]==-1:\n",
    "                floodfill(im,labels,x,y,label)\n",
    "                label+=1\n",
    "    print(label)\n",
    "    return labels"
   ]
  },
  {
   "cell_type": "code",
   "execution_count": null,
   "metadata": {},
   "outputs": [],
   "source": [
    "%%time\n",
    "labels = meu_segmenta(im)"
   ]
  },
  {
   "cell_type": "code",
   "execution_count": null,
   "metadata": {},
   "outputs": [],
   "source": [
    "imshow(pinta_blobs(labels))\n",
    "imshow(pinta_blobs2(labels,im))"
   ]
  },
  {
   "cell_type": "markdown",
   "metadata": {},
   "source": [
    "### 1.2 "
   ]
  },
  {
   "cell_type": "code",
   "execution_count": null,
   "metadata": {},
   "outputs": [],
   "source": [
    "#matriz de adjacência dos blobs\n",
    "def matriz_adj(labels,viz8=False):\n",
    "    #cria matriz\n",
    "    size = int(labels.max()+1)\n",
    "    adj = np.identity(size+1).astype(int)\n",
    "    \n",
    "    #labels com borda (para evitar de olhar limites nas vizinhanças)\n",
    "    labels2 = np.ones(np.array(labels.shape)+2).astype(int)*size\n",
    "    labels2[1:-1,1:-1] = labels\n",
    "    \n",
    "    for y in range(1,labels.shape[0]+1):\n",
    "        for x in range(1,labels.shape[1]+1):\n",
    "            adj[labels2[y,x],labels2[y,x-1]]+=1\n",
    "            adj[labels2[y,x],labels2[y,x+1]]+=1\n",
    "            adj[labels2[y,x],labels2[y-1,x]]+=1\n",
    "            adj[labels2[y,x],labels2[y+1,x]]+=1\n",
    "            if viz8:\n",
    "                adj[labels2[y,x],labels2[y-1,x-1]]+=1\n",
    "                adj[labels2[y,x],labels2[y-1,x+1]]+=1\n",
    "                adj[labels2[y,x],labels2[y+1,x-1]]+=1\n",
    "                adj[labels2[y,x],labels2[y+1,x+1]]+=1\n",
    "                \n",
    "    # retira vertices das bordas\n",
    "    adj = adj[:-1,:-1]\n",
    "    return adj\n",
    "#matriz_adj(labels)"
   ]
  },
  {
   "cell_type": "code",
   "execution_count": null,
   "metadata": {},
   "outputs": [],
   "source": [
    "#cor mediana de cada blob\n",
    "def mediana_blobs(labels,im):\n",
    "    n_labels = int(labels.max()+1)\n",
    "    \n",
    "    cores = np.zeros((n_labels,3)).astype(int)\n",
    "    \n",
    "    #divide os canais\n",
    "    b,g,r    = im[:,:,0],im[:,:,1],im[:,:,2]\n",
    "    \n",
    "    for l in range(n_labels):\n",
    "        mask = labels==l\n",
    "        cores[l,0] = np.median(b[mask])#b[mask].mean()\n",
    "        cores[l,1] = np.median(g[mask])#g[mask].mean()\n",
    "        cores[l,2] = np.median(r[mask])#r[mask].mean()\n",
    "    return cores\n",
    "#mediana_blobs(labels,im)"
   ]
  },
  {
   "cell_type": "code",
   "execution_count": null,
   "metadata": {},
   "outputs": [],
   "source": [
    "# dado dois blobs de label l1 e l2\n",
    "# junta os dois e arruma a matriz de adjacência\n",
    "def junta_blobs(l1,l2,labels,adj):\n",
    "    labels = labels.copy()\n",
    "    \n",
    "    #arruma matriz labels\n",
    "    labels[labels==l2] = l1\n",
    "    labels[labels>l2] -= 1\n",
    "    \n",
    "    adj[l1,:] += adj[l2,:]\n",
    "    adj[:,l1] += adj[:,l2]\n",
    "    adj[l1,l1] -= 1\n",
    "    \n",
    "    adj=np.delete(adj, l2, 0)\n",
    "    adj=np.delete(adj, l2, 1)\n",
    "    \n",
    "    return labels,adj"
   ]
  },
  {
   "cell_type": "code",
   "execution_count": null,
   "metadata": {},
   "outputs": [],
   "source": [
    "def agrupa(im,labels,dist_cor_min=30,conexos_min=1):\n",
    "    labels = labels.copy()\n",
    "    \n",
    "    adj = matriz_adj(labels)\n",
    "    cores = mediana_blobs(labels,im)\n",
    "    n_labels = cores.shape[0]\n",
    "    n_labels_ant = n_labels+1\n",
    "    \n",
    "    #enquando conseguir diminuir o numero de labels\n",
    "    while(n_labels_ant>n_labels):\n",
    "        n_labels_ant = n_labels\n",
    "        \n",
    "        #para cada par de labels\n",
    "        l1=0\n",
    "        while(l1<n_labels):\n",
    "            print(l1,'/',n_labels)\n",
    "            l2 = l1+1\n",
    "            while(l2<n_labels):\n",
    "                if dist_cor(cores[l1],cores[l2])<=dist_cor_min and adj[l1,l2]>=conexos_min:\n",
    "                    labels,adj = junta_blobs(l1,l2,labels,adj)\n",
    "                    n_labels-=1\n",
    "                else:\n",
    "                    l2+=1\n",
    "            l1+=1\n",
    "        \n",
    "        #novo vetor de cores\n",
    "        cores = mediana_blobs(labels,im)\n",
    "        n_labels = cores.shape[0]\n",
    "        \n",
    "        print(n_labels_ant,'para',n_labels,'blobs')\n",
    "    return labels"
   ]
  },
  {
   "cell_type": "code",
   "execution_count": null,
   "metadata": {},
   "outputs": [],
   "source": [
    "#labels = agrupa(im,labels)"
   ]
  },
  {
   "cell_type": "markdown",
   "metadata": {},
   "source": [
    "***\n",
    "# 2. felzenszwalb"
   ]
  },
  {
   "cell_type": "code",
   "execution_count": null,
   "metadata": {},
   "outputs": [],
   "source": [
    "%%time\n",
    "#segments_fz = felzenszwalb(im, scale=100, sigma=0.5, min_size=50)\n",
    "segments_fz = felzenszwalb(im, scale=100, sigma=0.5, min_size=3)"
   ]
  },
  {
   "cell_type": "code",
   "execution_count": null,
   "metadata": {},
   "outputs": [],
   "source": [
    "imshow(pinta_blobs(segments_fz))\n",
    "imshow(pinta_blobs2(segments_fz,im))"
   ]
  },
  {
   "cell_type": "markdown",
   "metadata": {},
   "source": [
    "***\n",
    "# 3. Slic"
   ]
  },
  {
   "cell_type": "code",
   "execution_count": null,
   "metadata": {},
   "outputs": [],
   "source": [
    "%%time\n",
    "#segments_slic = slic(im, n_segments=250, compactness=10, sigma=1)\n",
    "segments_slic = slic(im, n_segments=250, compactness=10, sigma=1)"
   ]
  },
  {
   "cell_type": "code",
   "execution_count": null,
   "metadata": {},
   "outputs": [],
   "source": [
    "imshow(pinta_blobs(segments_slic))\n",
    "imshow(pinta_blobs2(segments_slic,im))"
   ]
  },
  {
   "cell_type": "markdown",
   "metadata": {},
   "source": [
    "***\n",
    "# 4. quickshift"
   ]
  },
  {
   "cell_type": "code",
   "execution_count": null,
   "metadata": {},
   "outputs": [],
   "source": [
    "%%time\n",
    "#segments_quick = quickshift(img, kernel_size=3, max_dist=6, ratio=0.5)\n",
    "segments_quick = quickshift(im, kernel_size=3, max_dist=6, ratio=0.5)"
   ]
  },
  {
   "cell_type": "code",
   "execution_count": null,
   "metadata": {},
   "outputs": [],
   "source": [
    "imshow(pinta_blobs(segments_quick))\n",
    "imshow(pinta_blobs2(segments_quick,im))"
   ]
  },
  {
   "cell_type": "markdown",
   "metadata": {},
   "source": [
    "***\n",
    "# 5. Watershed"
   ]
  },
  {
   "cell_type": "code",
   "execution_count": null,
   "metadata": {},
   "outputs": [],
   "source": [
    "%%time\n",
    "gradient = sobel(rgb2gray(im))\n",
    "#segments_watershed = watershed(gradient, markers=250, compactness=0.001)\n",
    "segments_watershed = watershed(gradient, markers=2000, compactness=0)"
   ]
  },
  {
   "cell_type": "code",
   "execution_count": null,
   "metadata": {},
   "outputs": [],
   "source": [
    "imshow(pinta_blobs(segments_watershed))\n",
    "imshow(pinta_blobs2(segments_watershed,im))"
   ]
  },
  {
   "cell_type": "code",
   "execution_count": null,
   "metadata": {},
   "outputs": [],
   "source": []
  },
  {
   "cell_type": "code",
   "execution_count": null,
   "metadata": {},
   "outputs": [],
   "source": []
  },
  {
   "cell_type": "code",
   "execution_count": null,
   "metadata": {},
   "outputs": [],
   "source": []
  }
 ],
 "metadata": {
  "kernelspec": {
   "display_name": "py3im",
   "language": "python",
   "name": "py3im"
  },
  "language_info": {
   "codemirror_mode": {
    "name": "ipython",
    "version": 3
   },
   "file_extension": ".py",
   "mimetype": "text/x-python",
   "name": "python",
   "nbconvert_exporter": "python",
   "pygments_lexer": "ipython3",
   "version": "3.6.8"
  }
 },
 "nbformat": 4,
 "nbformat_minor": 2
}
