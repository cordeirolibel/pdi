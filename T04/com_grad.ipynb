{
 "cells": [
  {
   "cell_type": "code",
   "execution_count": null,
   "metadata": {},
   "outputs": [],
   "source": [
    "import numpy as np\n",
    "import cv2\n",
    "from matplotlib import pyplot as plt\n",
    "%matplotlib inline"
   ]
  },
  {
   "cell_type": "code",
   "execution_count": null,
   "metadata": {},
   "outputs": [],
   "source": [
    "#minha funcao para mostrar as imagens\n",
    "def imshow(im,big=False):\n",
    "    if big:\n",
    "        plt.figure(figsize=(20,20))\n",
    "    else:\n",
    "        plt.figure()\n",
    "    if len(im.shape)<3:\n",
    "        plt.imshow(im, cmap='gray')#As cores ficam zoadas no Jupyter se deixar sem esse parâmetro\n",
    "    else:\n",
    "        plt.imshow(im) \n",
    "    plt.axis('off')\n",
    "    plt.show()"
   ]
  },
  {
   "cell_type": "code",
   "execution_count": null,
   "metadata": {},
   "outputs": [],
   "source": [
    "def f2i(im):#float to int\n",
    "    return np.round(im * 255.0).astype('uint8')\n",
    "def i2f(im):#int to float\n",
    "    return im.astype('float') / 255.0\n",
    "def norm(im):\n",
    "    return (im-im.min())/(im.max()-im.min())"
   ]
  },
  {
   "cell_type": "markdown",
   "metadata": {},
   "source": [
    "### 1. Abrindo Imagem"
   ]
  },
  {
   "cell_type": "markdown",
   "metadata": {},
   "source": [
    "60.bmp<br>\n",
    "82.bmp<br>\n",
    "114.bmp<br>\n",
    "150.bmp<br>\n",
    "205.bmp"
   ]
  },
  {
   "cell_type": "code",
   "execution_count": null,
   "metadata": {},
   "outputs": [],
   "source": [
    "im = cv2.imread(\"205.bmp\")\n",
    "imshow(im)"
   ]
  },
  {
   "cell_type": "markdown",
   "metadata": {},
   "source": [
    "### 2. Convertendo para escala de cinza"
   ]
  },
  {
   "cell_type": "code",
   "execution_count": null,
   "metadata": {},
   "outputs": [],
   "source": [
    "def cinza(im):\n",
    "    return i2f(norm(cv2.cvtColor(im, cv2.COLOR_BGR2GRAY)))\n",
    "im_gray = cinza(im)\n",
    "imshow(im_gray)"
   ]
  },
  {
   "cell_type": "markdown",
   "metadata": {},
   "source": [
    "### Gradiente"
   ]
  },
  {
   "cell_type": "code",
   "execution_count": null,
   "metadata": {},
   "outputs": [],
   "source": [
    "def grad(im_gray,ksize=5):\n",
    "    #sobel\n",
    "    sobelx = cv2.Sobel(im_gray,cv2.CV_64F,1,0,ksize=ksize)\n",
    "    sobely = cv2.Sobel(im_gray,cv2.CV_64F,0,1,ksize=ksize)\n",
    "    im_grad = np.sqrt(sobelx**2+sobely**2)\n",
    "    #normaliza\n",
    "    im_grad = (im_grad-im_grad.min())/(im_grad.max()-im_grad.min())\n",
    "    return im_grad\n",
    "im_grad = grad(im_gray,7)\n",
    "imshow(im_grad)"
   ]
  },
  {
   "cell_type": "markdown",
   "metadata": {},
   "source": [
    "### Limiarização global"
   ]
  },
  {
   "cell_type": "code",
   "execution_count": null,
   "metadata": {},
   "outputs": [],
   "source": [
    "def limiarizacao_global(im, limite = 0.21):\n",
    "    ret,im_limiarizacao_global = cv2.threshold(im,limite, 1.0, cv2.THRESH_BINARY)\n",
    "    return f2i(im_limiarizacao_global)\n",
    "im_bin = limiarizacao_global(im_grad)\n",
    "imshow(im_bin,True)"
   ]
  },
  {
   "cell_type": "markdown",
   "metadata": {},
   "source": [
    "### Destroi pequenos objetos "
   ]
  },
  {
   "cell_type": "code",
   "execution_count": null,
   "metadata": {},
   "outputs": [],
   "source": [
    "def limpa(im,area_min = 50):\n",
    "    ret, labels = cv2.connectedComponents(im)\n",
    "    for i in range(ret):\n",
    "        mask = labels==i\n",
    "        if mask.sum()<area_min:\n",
    "            im[mask] = 0\n",
    "    return im\n",
    "im_limp = limpa(im_bin)\n",
    "imshow(im_limp,True)"
   ]
  },
  {
   "cell_type": "markdown",
   "metadata": {},
   "source": [
    "### Morphology"
   ]
  },
  {
   "cell_type": "code",
   "execution_count": null,
   "metadata": {},
   "outputs": [],
   "source": [
    "def morphology(im):\n",
    "    kernel = np.array([[0,1,0],[1,1,1],[0,1,0]]).astype('uint8')\n",
    "    #kernel = np.ones((3,3))\n",
    "    #im_erode = cv2.erode(im_limiarizacao_global,kernel,iterations = 1)\n",
    "    im_morp = cv2.morphologyEx(im, cv2.MORPH_CLOSE, kernel,iterations=1)\n",
    "    #im_morp = cv2.morphologyEx(im, cv2.MORPH_OPEN, kernel,iterations=1)\n",
    "    return im_morp\n",
    "im_morp = morphology(im_limp)\n",
    "imshow(im_morp,True)"
   ]
  },
  {
   "cell_type": "markdown",
   "metadata": {},
   "source": [
    "### floodFill invertido"
   ]
  },
  {
   "cell_type": "code",
   "execution_count": null,
   "metadata": {},
   "outputs": [],
   "source": [
    "def flood_fill_inv(im):\n",
    "    h, w = im.shape[:2]\n",
    "    mask = np.zeros((h+2, w+2), np.uint8)\n",
    "    im_flood = cv2.floodFill(im.copy(),mask,(0,0),255)\n",
    "\n",
    "    im[im_flood[1]<100] = 255\n",
    "    return im\n",
    "im_fill = flood_fill_inv(im_morp)\n",
    "imshow(im_fill)"
   ]
  },
  {
   "cell_type": "code",
   "execution_count": null,
   "metadata": {},
   "outputs": [],
   "source": [
    "from scipy import stats\n",
    "def areas(im):\n",
    "    ret, labels = cv2.connectedComponents(im.astype('uint8'))\n",
    "    \n",
    "    #area de cada blob\n",
    "    areas = np.zeros(ret).astype(int)\n",
    "    for i in range(ret):\n",
    "        areas[i] = np.sum(labels==i)\n",
    "    areas = areas[1:]#removendo o fundo \n",
    "    \n",
    "    #meio que moda, tenta adivinhar o tamanho medio de um arroz\n",
    "    mode = stats.mode(np.round(areas/10)).mode[0]*10\n",
    "    \n",
    "    #estima a quantidade de arroz\n",
    "    return int(np.round(areas/mode).sum())\n",
    "areas(im_fill)"
   ]
  },
  {
   "cell_type": "markdown",
   "metadata": {},
   "source": [
    "# Pipelines"
   ]
  },
  {
   "cell_type": "code",
   "execution_count": null,
   "metadata": {},
   "outputs": [],
   "source": [
    "def pipeline1(path):\n",
    "    \n",
    "    im = cv2.imread(path)\n",
    "    \n",
    "    im_gray = cinza(im)\n",
    "    im_grad = grad(im_gray,5)\n",
    "    im_bin  = limiarizacao_global(im_grad,0.22)\n",
    "    im_limp = limpa(im_bin)\n",
    "    im_close = morphology(im_limp)\n",
    "    im_fill = flood_fill_inv(im_close)\n",
    "    \n",
    "    print('  estimativa',areas(im_fill))\n",
    "    \n",
    "    return im_fill"
   ]
  },
  {
   "cell_type": "code",
   "execution_count": null,
   "metadata": {},
   "outputs": [],
   "source": [
    "def testa_pipeline(pipeline,paths):\n",
    "    for path in paths:\n",
    "        print(path)\n",
    "        im = pipeline(path)\n",
    "        #imshow(im,True)\n",
    "        cv2.imwrite(path+'.png',im)"
   ]
  },
  {
   "cell_type": "code",
   "execution_count": null,
   "metadata": {
    "scrolled": false
   },
   "outputs": [],
   "source": [
    "%%time\n",
    "paths = [\"60.bmp\",\"82.bmp\",\"114.bmp\",\"150.bmp\",\"205.bmp\"]\n",
    "testa_pipeline(pipeline1,paths)"
   ]
  },
  {
   "cell_type": "code",
   "execution_count": null,
   "metadata": {},
   "outputs": [],
   "source": []
  },
  {
   "cell_type": "code",
   "execution_count": null,
   "metadata": {},
   "outputs": [],
   "source": []
  },
  {
   "cell_type": "code",
   "execution_count": null,
   "metadata": {},
   "outputs": [],
   "source": []
  }
 ],
 "metadata": {
  "kernelspec": {
   "display_name": "py3im",
   "language": "python",
   "name": "py3im"
  },
  "language_info": {
   "codemirror_mode": {
    "name": "ipython",
    "version": 3
   },
   "file_extension": ".py",
   "mimetype": "text/x-python",
   "name": "python",
   "nbconvert_exporter": "python",
   "pygments_lexer": "ipython3",
   "version": "3.7.1"
  }
 },
 "nbformat": 4,
 "nbformat_minor": 2
}
